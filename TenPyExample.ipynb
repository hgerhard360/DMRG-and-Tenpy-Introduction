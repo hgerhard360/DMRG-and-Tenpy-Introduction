{
  "nbformat": 4,
  "nbformat_minor": 0,
  "metadata": {
    "colab": {
      "provenance": []
    },
    "kernelspec": {
      "name": "python3",
      "display_name": "Python 3"
    },
    "language_info": {
      "name": "python"
    }
  },
  "cells": [
    {
      "cell_type": "markdown",
      "source": [
        "# TenPy Introduction\n",
        "\n",
        "Here, we present an introduction to the use of Python's [TenPy](https://tenpy.readthedocs.io/en/latest/index.html) package, which is useful for implementations of algorithms like density matrix renormalization group (DMRG) and time-evolving block decimation (TEBD).\n",
        "\n",
        "In this document, we show some of the basics for how to use TenPy, namely building a model for a spin chain and using DMRG to find and analyze properties of the ground state. To begin, we first install TenPy onto our Colab session and import some useful packages."
      ],
      "metadata": {
        "id": "9yqGSY59xhGv"
      }
    },
    {
      "cell_type": "code",
      "execution_count": 1,
      "metadata": {
        "colab": {
          "base_uri": "https://localhost:8080/"
        },
        "id": "g7d4TXu7xfjH",
        "outputId": "e9bb9ca4-d516-4bbd-d520-e4d5b43c33b8"
      },
      "outputs": [
        {
          "output_type": "stream",
          "name": "stdout",
          "text": [
            "Collecting physics_tenpy\n",
            "  Downloading physics_tenpy-1.0.4-cp310-cp310-manylinux_2_17_x86_64.manylinux2014_x86_64.whl.metadata (9.1 kB)\n",
            "Requirement already satisfied: numpy in /usr/local/lib/python3.10/dist-packages (from physics_tenpy) (1.26.4)\n",
            "Requirement already satisfied: scipy in /usr/local/lib/python3.10/dist-packages (from physics_tenpy) (1.13.1)\n",
            "Downloading physics_tenpy-1.0.4-cp310-cp310-manylinux_2_17_x86_64.manylinux2014_x86_64.whl (2.5 MB)\n",
            "\u001b[2K   \u001b[90m━━━━━━━━━━━━━━━━━━━━━━━━━━━━━━━━━━━━━━━━\u001b[0m \u001b[32m2.5/2.5 MB\u001b[0m \u001b[31m10.5 MB/s\u001b[0m eta \u001b[36m0:00:00\u001b[0m\n",
            "\u001b[?25hInstalling collected packages: physics_tenpy\n",
            "Successfully installed physics_tenpy-1.0.4\n"
          ]
        }
      ],
      "source": [
        "! pip install physics_tenpy # the name 'tenpy' was already taken! be sure you\n",
        "                            # don't install 'tenpy' to reduce import errors"
      ]
    },
    {
      "cell_type": "code",
      "source": [
        "# importing\n",
        "\n",
        "from tenpy.models.lattice import Chain # bare chain package\n",
        "\n",
        "from tenpy.networks import site # package that has all sorts of site structures\n",
        "\n",
        "from tenpy.models.spins import SpinModel # general model for spin lattices\n",
        "\n",
        "from tenpy.models.spins import SpinChain # special model for a spin chain that\n",
        "                                         # allows us to bypass the construction\n",
        "                                         # of a chain lattice\n",
        "\n",
        "from tenpy.networks.mps import MPS # package to construct a matrix product state\n",
        "                                   # for a given model\n",
        "\n",
        "from tenpy.algorithms import dmrg # you know what it be"
      ],
      "metadata": {
        "id": "l5U6V5UpzEiI"
      },
      "execution_count": 2,
      "outputs": []
    },
    {
      "cell_type": "markdown",
      "source": [
        "## Building a Lattice\n",
        "\n",
        "Here, we construct a [Chain](https://tenpy.readthedocs.io/en/latest/reference/tenpy.models.lattice.Chain.html) lattice object to feed into our model. Here, we use the [SpinSite](https://tenpy.readthedocs.io/en/latest/reference/tenpy.networks.site.SpinSite.html) as the sites of our lattice, where the S parameter used below in our site initialization defines the spin value.\n"
      ],
      "metadata": {
        "id": "tA9WE4fJ0SZt"
      }
    },
    {
      "cell_type": "code",
      "source": [
        "L = 10 # number of sites in our lattice\n",
        "bc = 'open' # open boundary conditions term, for periodic we put 'periodic'\n",
        "\n",
        "\n",
        "spin_site = site.SpinSite(0.5, 'None') # we want a spin 1/2 site with no\n",
        "                                       # conservation laws\n",
        "\n",
        "\n",
        "lat = Chain(L=L, site=spin_site, bc=bc) # building our lattice!"
      ],
      "metadata": {
        "id": "4yJHK9A70MPB"
      },
      "execution_count": 3,
      "outputs": []
    },
    {
      "cell_type": "markdown",
      "source": [
        "## Building a Model\n",
        "\n",
        "Here, we insert out lattice built above into the [SpinModel](https://tenpy.readthedocs.io/en/latest/reference/tenpy.models.spins.SpinModel.html#tenpy.models.spins.SpinModel) to create our model. Here, we implement the transverse field Ising model\n",
        "\n",
        "$$\n",
        "\\hat{H} =  \\sum_{\\langle i,j \\rangle }  J S_i^z S_j^z  - \\sum_i g S_i^x\n",
        "$$\n",
        "\n",
        "Here, we use the SpinModel, but if we know we want a SpinChain, there is a [SpinChain](https://tenpy.readthedocs.io/en/latest/reference/tenpy.models.spins.SpinChain.html) model already premade for us, neat!\n",
        "\n",
        "The SpinModel module can be used in a couple different ways. For example, we can just insert our lattice into the model."
      ],
      "metadata": {
        "id": "gRIaa9x_2u-F"
      }
    },
    {
      "cell_type": "code",
      "source": [
        "J = 1\n",
        "g = 1\n",
        "\n",
        "model_params = {\n",
        "    'lattice' : lat,\n",
        "    'Jz' : J,\n",
        "    'hx' : g\n",
        "}\n",
        "\n",
        "model = SpinModel(model_params=model_params)"
      ],
      "metadata": {
        "id": "hl6ldxFt2upT"
      },
      "execution_count": 4,
      "outputs": []
    },
    {
      "cell_type": "markdown",
      "source": [
        "Or we can insert parameters into the model like"
      ],
      "metadata": {
        "id": "DG6-1y7g_PFs"
      }
    },
    {
      "cell_type": "code",
      "source": [
        "model_params = {\n",
        "    'L' : L,\n",
        "    'bc_x' : bc,\n",
        "    'S' : 0.5,\n",
        "    'lattice' : 'Chain',\n",
        "    'Jz' : J,\n",
        "    'hx' : g*J\n",
        "}\n",
        "\n",
        "model = SpinModel(model_params=model_params)"
      ],
      "metadata": {
        "id": "R455lbtZ2ni2"
      },
      "execution_count": 5,
      "outputs": []
    },
    {
      "cell_type": "markdown",
      "source": [
        "## Initial Matrix Product State\n",
        "\n",
        "Now that we have a model, we can make our initial MPS and then we will be ready for DMRG. This initial MPS can be random, uniform, or a structured guess based on symmetries of our model. Here, we use the [MPS](https://tenpy.readthedocs.io/en/latest/reference/tenpy.networks.mps.MPS.html) module, where we can construct our matrix product state using just strings!"
      ],
      "metadata": {
        "id": "jMY_l7Y-uulD"
      }
    },
    {
      "cell_type": "code",
      "source": [
        "product_state = [\"up\"]*L # yep, it's that easy!\n",
        "\n",
        "psi = MPS.from_product_state(model.lat.mps_sites(),\n",
        "                             product_state,\n",
        "                             bc=model.lat.bc_MPS) # okay, we had to do this\n",
        "                                                  # extra step, still easy!"
      ],
      "metadata": {
        "id": "z8XtDcqGwK5x"
      },
      "execution_count": 6,
      "outputs": []
    },
    {
      "cell_type": "markdown",
      "source": [
        "## DMRG Time\n",
        "\n",
        "Now we have all the pieces to run a DMRG algorithm. We will need to set some parameters for the DMRG, but other than that we are home free! The only thing here that I think could be unclear is the [Mixer](https://tenpy.readthedocs.io/en/latest/reference/tenpy.algorithms.mps_common.Mixer.html#cfg-option-Mixer.amplitude) in dmrg_params. But, [here](https://tenpy.readthedocs.io/en/latest/notebooks/12_dmrg_mixer.html) is a whole page about the mixer!"
      ],
      "metadata": {
        "id": "EcNg3FP8x9Lt"
      }
    },
    {
      "cell_type": "code",
      "source": [
        "dmrg_params = {\n",
        "\n",
        "'trunc_params' : { # parameters for truncation of stuff\n",
        "    'chi_max' : 100, # maximum virtual/bond dimension\n",
        "    'svd_min' : 1e-7 # minimum value of singular values before we truncate them\n",
        "},\n",
        "\n",
        "'max_E_err' : 1e-5, # maximum error in energies as we make variations\n",
        "\n",
        "'mixer' : True # something that helps us avoid getting stuck in local minima\n",
        "               # by expanding the local bond dimension for the some number\n",
        "               # of initial sweeps. Think of this like annealing in\n",
        "               # Metropolis (Monte-Carlo) algorithms. True gives the default\n",
        "               # class of Mixer\n",
        "\n",
        "}\n",
        "\n",
        "info = dmrg.run(psi,model,dmrg_params) # dmrg returns all sorts of statistics\n",
        "                                       # to info\n",
        "\n",
        "\n"
      ],
      "metadata": {
        "id": "pAOTS6ZDyLFs"
      },
      "execution_count": 7,
      "outputs": []
    },
    {
      "cell_type": "markdown",
      "source": [
        "And that's it, we've run a DMRG algorithm! There are all sorts of things that we can do now. One example is a phase space plot! Let's look at a [TFIChain](https://tenpy.readthedocs.io/en/latest/reference/tenpy.models.tf_ising.TFIChain.html) and if we can see the different phases. ***This section has no comments/explainations***, see if you can figure out everything that's going on!\n",
        "\n",
        "This section is motivated by [this](https://juliaphysics.github.io/PhysicsTutorials.jl/tutorials/general/quantum_ising/quantum_ising.html) analysis of the transverse field ising model from the developers of Julia, a C++ based programing language for scientific computing.\n",
        "\n",
        "We are still using the SpinChain here, but the same work with the TFIChain should produce the same results.\n",
        "\n",
        "It is probably best if you try to run this (and computationally intensive TenPy stuff) as a script (.py file) because there can be quite a bit of computational overhead to manage the Jupyter (.ipynb) environment as we let the computer go compute. Of course, you can always do tests here with smaller finite systems to get an idea of how everything works. You got this!"
      ],
      "metadata": {
        "id": "0WR8vu7o9k90"
      }
    },
    {
      "cell_type": "code",
      "source": [
        "import numpy as np\n",
        "import matplotlib.pyplot as plt\n",
        "from time import time\n",
        "\n",
        "\n",
        "\n",
        "res = 11\n",
        "J = -1\n",
        "\n",
        "gs = np.linspace(-1,1,res)\n",
        "\n",
        "x_mag = np.zeros((res,res),dtype=float)\n",
        "\n",
        "\n",
        "\n",
        "def get_ground(L,J,g) :\n",
        "\n",
        "  model_param = {\n",
        "      'L' : L,\n",
        "      'bc_MPS' : 'finite',\n",
        "      'conserve' : 'None',\n",
        "      'Jz' : J,\n",
        "      'hx' : g\n",
        "  }\n",
        "\n",
        "  model = SpinChain(model_param)\n",
        "\n",
        "  base_states = ['up','down']\n",
        "\n",
        "  product_state = [np.random.choice(base_states) for i in range(L)]\n",
        "\n",
        "  psi = MPS.from_product_state(model.lat.mps_sites(),\n",
        "                               product_state,\n",
        "                               bc=model.lat.bc_MPS)\n",
        "\n",
        "\n",
        "  dmrg_params = {\n",
        "\n",
        "      'trunc_params' : {\n",
        "          'chi_max' : 100,\n",
        "          'svd_min' : 1e-4\n",
        "      },\n",
        "\n",
        "      'max_E_err' : 1e-5,\n",
        "\n",
        "      'mixer' : True\n",
        "  }\n",
        "\n",
        "  print(\"Running DMRG...\")\n",
        "  t_i = time()\n",
        "  info = dmrg.run(psi,model,dmrg_params)\n",
        "  t_f = time()\n",
        "  print(f\"DMRG finished | Time : {np.round(t_f-t_i,2)} sec | chi : {psi.chi}\")\n",
        "\n",
        "  return psi, info\n",
        "\n",
        "\n",
        "for ii in range(res) :\n",
        "  for jj in range(res) :\n",
        "    psi, info = get_ground(L=L,J=Js[ii],g=gs[jj])\n",
        "\n",
        "    x_mag[ii,jj] = np.mean(psi.expectation_value('Sx'))\n",
        "\n",
        "\n",
        "\n",
        "\n",
        "\n",
        "\n"
      ],
      "metadata": {
        "id": "HwdAxH869kne",
        "colab": {
          "base_uri": "https://localhost:8080/",
          "height": 211
        },
        "outputId": "40ed2c4f-16ae-41c6-e7fe-c28253271925"
      },
      "execution_count": 8,
      "outputs": [
        {
          "output_type": "error",
          "ename": "NameError",
          "evalue": "name 'Js' is not defined",
          "traceback": [
            "\u001b[0;31m---------------------------------------------------------------------------\u001b[0m",
            "\u001b[0;31mNameError\u001b[0m                                 Traceback (most recent call last)",
            "\u001b[0;32m<ipython-input-8-5b6fc636c72a>\u001b[0m in \u001b[0;36m<cell line: 58>\u001b[0;34m()\u001b[0m\n\u001b[1;32m     58\u001b[0m \u001b[0;32mfor\u001b[0m \u001b[0mii\u001b[0m \u001b[0;32min\u001b[0m \u001b[0mrange\u001b[0m\u001b[0;34m(\u001b[0m\u001b[0mres\u001b[0m\u001b[0;34m)\u001b[0m \u001b[0;34m:\u001b[0m\u001b[0;34m\u001b[0m\u001b[0;34m\u001b[0m\u001b[0m\n\u001b[1;32m     59\u001b[0m   \u001b[0;32mfor\u001b[0m \u001b[0mjj\u001b[0m \u001b[0;32min\u001b[0m \u001b[0mrange\u001b[0m\u001b[0;34m(\u001b[0m\u001b[0mres\u001b[0m\u001b[0;34m)\u001b[0m \u001b[0;34m:\u001b[0m\u001b[0;34m\u001b[0m\u001b[0;34m\u001b[0m\u001b[0m\n\u001b[0;32m---> 60\u001b[0;31m     \u001b[0mpsi\u001b[0m\u001b[0;34m,\u001b[0m \u001b[0minfo\u001b[0m \u001b[0;34m=\u001b[0m \u001b[0mget_ground\u001b[0m\u001b[0;34m(\u001b[0m\u001b[0mL\u001b[0m\u001b[0;34m=\u001b[0m\u001b[0mL\u001b[0m\u001b[0;34m,\u001b[0m\u001b[0mJ\u001b[0m\u001b[0;34m=\u001b[0m\u001b[0mJs\u001b[0m\u001b[0;34m[\u001b[0m\u001b[0mii\u001b[0m\u001b[0;34m]\u001b[0m\u001b[0;34m,\u001b[0m\u001b[0mg\u001b[0m\u001b[0;34m=\u001b[0m\u001b[0mgs\u001b[0m\u001b[0;34m[\u001b[0m\u001b[0mjj\u001b[0m\u001b[0;34m]\u001b[0m\u001b[0;34m)\u001b[0m\u001b[0;34m\u001b[0m\u001b[0;34m\u001b[0m\u001b[0m\n\u001b[0m\u001b[1;32m     61\u001b[0m \u001b[0;34m\u001b[0m\u001b[0m\n\u001b[1;32m     62\u001b[0m     \u001b[0mx_mag\u001b[0m\u001b[0;34m[\u001b[0m\u001b[0mii\u001b[0m\u001b[0;34m,\u001b[0m\u001b[0mjj\u001b[0m\u001b[0;34m]\u001b[0m \u001b[0;34m=\u001b[0m \u001b[0mnp\u001b[0m\u001b[0;34m.\u001b[0m\u001b[0mmean\u001b[0m\u001b[0;34m(\u001b[0m\u001b[0mpsi\u001b[0m\u001b[0;34m.\u001b[0m\u001b[0mexpectation_value\u001b[0m\u001b[0;34m(\u001b[0m\u001b[0;34m'Sx'\u001b[0m\u001b[0;34m)\u001b[0m\u001b[0;34m)\u001b[0m\u001b[0;34m\u001b[0m\u001b[0;34m\u001b[0m\u001b[0m\n",
            "\u001b[0;31mNameError\u001b[0m: name 'Js' is not defined"
          ]
        }
      ]
    },
    {
      "cell_type": "code",
      "source": [
        "plt.imshow(x_mag)\n",
        "plt.colorbar()"
      ],
      "metadata": {
        "id": "Nnqnd52KHO61"
      },
      "execution_count": null,
      "outputs": []
    },
    {
      "cell_type": "code",
      "source": [],
      "metadata": {
        "id": "LRzoKO-DfsnX"
      },
      "execution_count": null,
      "outputs": []
    }
  ]
}